{
 "cells": [
  {
   "cell_type": "markdown",
   "metadata": {},
   "source": [
    "# Backtesting\n",
    "---"
   ]
  },
  {
   "cell_type": "code",
   "execution_count": 25,
   "metadata": {},
   "outputs": [],
   "source": [
    "import numpy as np\n",
    "import pandas as pd\n",
    "\n",
    "import FinanceDataReader as fdr\n",
    "import datetime"
   ]
  },
  {
   "cell_type": "markdown",
   "metadata": {},
   "source": [
    "cluster0  \n",
    "<img width=\"1006\" alt=\"image\" src=\"https://user-images.githubusercontent.com/88031549/203972147-fc86531d-febd-41c7-922a-22e9648e4e88.png\">"
   ]
  },
  {
   "cell_type": "markdown",
   "metadata": {},
   "source": [
    "cluster3  \n",
    "<img width=\"1033\" alt=\"image\" src=\"https://user-images.githubusercontent.com/88031549/203954456-ec3bd1bb-3e7f-498c-9c12-ab704fcebcb2.png\">"
   ]
  },
  {
   "cell_type": "markdown",
   "metadata": {},
   "source": [
    "cluster10  \n",
    "<img width=\"991\" alt=\"image\" src=\"https://user-images.githubusercontent.com/88031549/203972417-10489cbd-f662-4f4c-9f0c-ada7e5aaecb4.png\">"
   ]
  },
  {
   "cell_type": "markdown",
   "metadata": {},
   "source": [
    "# 1. Data 불러오기"
   ]
  },
  {
   "cell_type": "code",
   "execution_count": 50,
   "metadata": {},
   "outputs": [
    {
     "data": {
      "text/html": [
       "<div>\n",
       "<style scoped>\n",
       "    .dataframe tbody tr th:only-of-type {\n",
       "        vertical-align: middle;\n",
       "    }\n",
       "\n",
       "    .dataframe tbody tr th {\n",
       "        vertical-align: top;\n",
       "    }\n",
       "\n",
       "    .dataframe thead th {\n",
       "        text-align: right;\n",
       "    }\n",
       "</style>\n",
       "<table border=\"1\" class=\"dataframe\">\n",
       "  <thead>\n",
       "    <tr style=\"text-align: right;\">\n",
       "      <th></th>\n",
       "      <th>Open</th>\n",
       "      <th>High</th>\n",
       "      <th>Low</th>\n",
       "      <th>Close</th>\n",
       "      <th>Volume</th>\n",
       "      <th>Change</th>\n",
       "    </tr>\n",
       "    <tr>\n",
       "      <th>Date</th>\n",
       "      <th></th>\n",
       "      <th></th>\n",
       "      <th></th>\n",
       "      <th></th>\n",
       "      <th></th>\n",
       "      <th></th>\n",
       "    </tr>\n",
       "  </thead>\n",
       "  <tbody>\n",
       "    <tr>\n",
       "      <th>2021-04-01</th>\n",
       "      <td>327000</td>\n",
       "      <td>328000</td>\n",
       "      <td>317000</td>\n",
       "      <td>322000</td>\n",
       "      <td>47488</td>\n",
       "      <td>-0.010753</td>\n",
       "    </tr>\n",
       "    <tr>\n",
       "      <th>2021-04-02</th>\n",
       "      <td>326000</td>\n",
       "      <td>328000</td>\n",
       "      <td>320000</td>\n",
       "      <td>321500</td>\n",
       "      <td>41740</td>\n",
       "      <td>-0.001553</td>\n",
       "    </tr>\n",
       "    <tr>\n",
       "      <th>2021-04-05</th>\n",
       "      <td>323500</td>\n",
       "      <td>323500</td>\n",
       "      <td>304000</td>\n",
       "      <td>305000</td>\n",
       "      <td>130733</td>\n",
       "      <td>-0.051322</td>\n",
       "    </tr>\n",
       "    <tr>\n",
       "      <th>2021-04-06</th>\n",
       "      <td>305000</td>\n",
       "      <td>305500</td>\n",
       "      <td>292000</td>\n",
       "      <td>296000</td>\n",
       "      <td>123624</td>\n",
       "      <td>-0.029508</td>\n",
       "    </tr>\n",
       "    <tr>\n",
       "      <th>2021-04-07</th>\n",
       "      <td>297000</td>\n",
       "      <td>300500</td>\n",
       "      <td>292500</td>\n",
       "      <td>298500</td>\n",
       "      <td>52077</td>\n",
       "      <td>0.008446</td>\n",
       "    </tr>\n",
       "    <tr>\n",
       "      <th>...</th>\n",
       "      <td>...</td>\n",
       "      <td>...</td>\n",
       "      <td>...</td>\n",
       "      <td>...</td>\n",
       "      <td>...</td>\n",
       "      <td>...</td>\n",
       "    </tr>\n",
       "    <tr>\n",
       "      <th>2022-03-25</th>\n",
       "      <td>164000</td>\n",
       "      <td>164000</td>\n",
       "      <td>159000</td>\n",
       "      <td>160000</td>\n",
       "      <td>27135</td>\n",
       "      <td>-0.018405</td>\n",
       "    </tr>\n",
       "    <tr>\n",
       "      <th>2022-03-28</th>\n",
       "      <td>159500</td>\n",
       "      <td>162000</td>\n",
       "      <td>157500</td>\n",
       "      <td>160000</td>\n",
       "      <td>19745</td>\n",
       "      <td>0.000000</td>\n",
       "    </tr>\n",
       "    <tr>\n",
       "      <th>2022-03-29</th>\n",
       "      <td>161000</td>\n",
       "      <td>163500</td>\n",
       "      <td>161000</td>\n",
       "      <td>163000</td>\n",
       "      <td>23822</td>\n",
       "      <td>0.018750</td>\n",
       "    </tr>\n",
       "    <tr>\n",
       "      <th>2022-03-30</th>\n",
       "      <td>165000</td>\n",
       "      <td>165000</td>\n",
       "      <td>161000</td>\n",
       "      <td>162000</td>\n",
       "      <td>22020</td>\n",
       "      <td>-0.006135</td>\n",
       "    </tr>\n",
       "    <tr>\n",
       "      <th>2022-03-31</th>\n",
       "      <td>162000</td>\n",
       "      <td>168500</td>\n",
       "      <td>160500</td>\n",
       "      <td>167500</td>\n",
       "      <td>61872</td>\n",
       "      <td>0.033951</td>\n",
       "    </tr>\n",
       "  </tbody>\n",
       "</table>\n",
       "<p>247 rows × 6 columns</p>\n",
       "</div>"
      ],
      "text/plain": [
       "              Open    High     Low   Close  Volume    Change\n",
       "Date                                                        \n",
       "2021-04-01  327000  328000  317000  322000   47488 -0.010753\n",
       "2021-04-02  326000  328000  320000  321500   41740 -0.001553\n",
       "2021-04-05  323500  323500  304000  305000  130733 -0.051322\n",
       "2021-04-06  305000  305500  292000  296000  123624 -0.029508\n",
       "2021-04-07  297000  300500  292500  298500   52077  0.008446\n",
       "...            ...     ...     ...     ...     ...       ...\n",
       "2022-03-25  164000  164000  159000  160000   27135 -0.018405\n",
       "2022-03-28  159500  162000  157500  160000   19745  0.000000\n",
       "2022-03-29  161000  163500  161000  163000   23822  0.018750\n",
       "2022-03-30  165000  165000  161000  162000   22020 -0.006135\n",
       "2022-03-31  162000  168500  160500  167500   61872  0.033951\n",
       "\n",
       "[247 rows x 6 columns]"
      ]
     },
     "execution_count": 50,
     "metadata": {},
     "output_type": "execute_result"
    }
   ],
   "source": [
    "# 백테스팅 기간 : 2021.04.01 ~ 2022.03.31\n",
    "start = datetime.datetime(2021, 4, 1)\n",
    "end = datetime.datetime(2022, 3, 31)\n",
    "\n",
    "df = fdr.DataReader(\"006650\", start, end)\n",
    "df"
   ]
  },
  {
   "cell_type": "markdown",
   "metadata": {},
   "source": [
    "# 2. Data check & plot"
   ]
  },
  {
   "cell_type": "code",
   "execution_count": 52,
   "metadata": {},
   "outputs": [
    {
     "data": {
      "text/plain": [
       "<AxesSubplot: xlabel='Date'>"
      ]
     },
     "execution_count": 52,
     "metadata": {},
     "output_type": "execute_result"
    },
    {
     "data": {
      "image/png": "[encoded data removed]",
      "text/plain": [
       "<Figure size 720x432 with 1 Axes>"
      ]
     },
     "metadata": {
      "needs_background": "light"
     },
     "output_type": "display_data"
    }
   ],
   "source": [
    "# 시가, 종가 확인\n",
    "df.plot(y = ['Open', 'Close'], figsize = [10,6], grid = True)"
   ]
  },
  {
   "cell_type": "code",
   "execution_count": 54,
   "metadata": {},
   "outputs": [
    {
     "data": {
      "text/plain": [
       "<AxesSubplot: xlabel='Date'>"
      ]
     },
     "execution_count": 54,
     "metadata": {},
     "output_type": "execute_result"
    },
    {
     "name": "stderr",
     "output_type": "stream",
     "text": [
      "/Users/kyle/opt/anaconda3/lib/python3.8/site-packages/IPython/core/events.py:89: UserWarning: Glyph 45824 (\\N{HANGUL SYLLABLE DAE}) missing from current font.\n",
      "  func(*args, **kwargs)\n",
      "/Users/kyle/opt/anaconda3/lib/python3.8/site-packages/IPython/core/events.py:89: UserWarning: Glyph 54620 (\\N{HANGUL SYLLABLE HAN}) missing from current font.\n",
      "  func(*args, **kwargs)\n",
      "/Users/kyle/opt/anaconda3/lib/python3.8/site-packages/IPython/core/events.py:89: UserWarning: Glyph 50976 (\\N{HANGUL SYLLABLE YU}) missing from current font.\n",
      "  func(*args, **kwargs)\n",
      "/Users/kyle/opt/anaconda3/lib/python3.8/site-packages/IPython/core/events.py:89: UserWarning: Glyph 54868 (\\N{HANGUL SYLLABLE HWA}) missing from current font.\n",
      "  func(*args, **kwargs)\n",
      "/Users/kyle/opt/anaconda3/lib/python3.8/site-packages/IPython/core/events.py:89: UserWarning: Glyph 49340 (\\N{HANGUL SYLLABLE SAM}) missing from current font.\n",
      "  func(*args, **kwargs)\n",
      "/Users/kyle/opt/anaconda3/lib/python3.8/site-packages/IPython/core/events.py:89: UserWarning: Glyph 51068 (\\N{HANGUL SYLLABLE IL}) missing from current font.\n",
      "  func(*args, **kwargs)\n",
      "/Users/kyle/opt/anaconda3/lib/python3.8/site-packages/IPython/core/events.py:89: UserWarning: Glyph 50472 (\\N{HANGUL SYLLABLE SSI}) missing from current font.\n",
      "  func(*args, **kwargs)\n",
      "/Users/kyle/opt/anaconda3/lib/python3.8/site-packages/IPython/core/events.py:89: UserWarning: Glyph 50644 (\\N{HANGUL SYLLABLE EN}) missing from current font.\n",
      "  func(*args, **kwargs)\n",
      "/Users/kyle/opt/anaconda3/lib/python3.8/site-packages/IPython/core/events.py:89: UserWarning: Glyph 50640 (\\N{HANGUL SYLLABLE E}) missing from current font.\n",
      "  func(*args, **kwargs)\n",
      "/Users/kyle/opt/anaconda3/lib/python3.8/site-packages/IPython/core/events.py:89: UserWarning: Glyph 49828 (\\N{HANGUL SYLLABLE SEU}) missing from current font.\n",
      "  func(*args, **kwargs)\n",
      "/Users/kyle/opt/anaconda3/lib/python3.8/site-packages/IPython/core/pylabtools.py:151: UserWarning: Glyph 45824 (\\N{HANGUL SYLLABLE DAE}) missing from current font.\n",
      "  fig.canvas.print_figure(bytes_io, **kw)\n",
      "/Users/kyle/opt/anaconda3/lib/python3.8/site-packages/IPython/core/pylabtools.py:151: UserWarning: Glyph 54620 (\\N{HANGUL SYLLABLE HAN}) missing from current font.\n",
      "  fig.canvas.print_figure(bytes_io, **kw)\n",
      "/Users/kyle/opt/anaconda3/lib/python3.8/site-packages/IPython/core/pylabtools.py:151: UserWarning: Glyph 50976 (\\N{HANGUL SYLLABLE YU}) missing from current font.\n",
      "  fig.canvas.print_figure(bytes_io, **kw)\n",
      "/Users/kyle/opt/anaconda3/lib/python3.8/site-packages/IPython/core/pylabtools.py:151: UserWarning: Glyph 54868 (\\N{HANGUL SYLLABLE HWA}) missing from current font.\n",
      "  fig.canvas.print_figure(bytes_io, **kw)\n",
      "/Users/kyle/opt/anaconda3/lib/python3.8/site-packages/IPython/core/pylabtools.py:151: UserWarning: Glyph 49340 (\\N{HANGUL SYLLABLE SAM}) missing from current font.\n",
      "  fig.canvas.print_figure(bytes_io, **kw)\n",
      "/Users/kyle/opt/anaconda3/lib/python3.8/site-packages/IPython/core/pylabtools.py:151: UserWarning: Glyph 51068 (\\N{HANGUL SYLLABLE IL}) missing from current font.\n",
      "  fig.canvas.print_figure(bytes_io, **kw)\n",
      "/Users/kyle/opt/anaconda3/lib/python3.8/site-packages/IPython/core/pylabtools.py:151: UserWarning: Glyph 50472 (\\N{HANGUL SYLLABLE SSI}) missing from current font.\n",
      "  fig.canvas.print_figure(bytes_io, **kw)\n",
      "/Users/kyle/opt/anaconda3/lib/python3.8/site-packages/IPython/core/pylabtools.py:151: UserWarning: Glyph 50644 (\\N{HANGUL SYLLABLE EN}) missing from current font.\n",
      "  fig.canvas.print_figure(bytes_io, **kw)\n",
      "/Users/kyle/opt/anaconda3/lib/python3.8/site-packages/IPython/core/pylabtools.py:151: UserWarning: Glyph 50640 (\\N{HANGUL SYLLABLE E}) missing from current font.\n",
      "  fig.canvas.print_figure(bytes_io, **kw)\n",
      "/Users/kyle/opt/anaconda3/lib/python3.8/site-packages/IPython/core/pylabtools.py:151: UserWarning: Glyph 49828 (\\N{HANGUL SYLLABLE SEU}) missing from current font.\n",
      "  fig.canvas.print_figure(bytes_io, **kw)\n"
     ]
    },
    {
     "data": {
      "image/png": "[encoded data removed]",
      "text/plain": [
       "<Figure size 720x432 with 1 Axes>"
      ]
     },
     "metadata": {
      "needs_background": "light"
     },
     "output_type": "display_data"
    }
   ],
   "source": [
    "# 변동(change) 확인 : 대한유화, 삼일씨엔에스\n",
    "df_1 = fdr.DataReader(\"006650\", start, end)\n",
    "df_2 = fdr.DataReader(\"004440\", start, end)\n",
    "\n",
    "df = pd.DataFrame()\n",
    "df['대한유화'] = df_1['Change']\n",
    "df['삼일씨엔에스'] = df_2['Change']\n",
    "\n",
    "# df.tail(100).plot(figsize = [10, 6]) # 최근 100일\n",
    "df.plot(figsize = [10, 6])"
   ]
  },
  {
   "cell_type": "markdown",
   "metadata": {},
   "source": [
    "# 3. 장단기 이평선에 따른 수익률 계산"
   ]
  },
  {
   "cell_type": "code",
   "execution_count": 27,
   "metadata": {},
   "outputs": [],
   "source": [
    "def get_return_sl(code, short, long):\n",
    "    \n",
    "    # 백테스팅 기간 : 2021.04.01 ~ 2022.03.31\n",
    "    start = datetime.datetime(2021, 4, 1)\n",
    "    end = datetime.datetime(2022, 3, 31)\n",
    "\n",
    "    df = fdr.DataReader(code, start, end)\n",
    "    df = df[['Close']].copy()\n",
    "\n",
    "    df['ma1'] = df['Close'].rolling(short).mean().shift(1)\n",
    "    df['ma2'] = df['Close'].rolling(long).mean().shift(1)\n",
    "\n",
    "    df['action'] = np.where(df['ma1'] > df['ma2'], 'buy', 'sell')\n",
    "\n",
    "    df.iloc[-1, -1] = 'sell'\n",
    "\n",
    "    cond1 = ( df['action'] == 'buy') & ( df['action'].shift(1) == 'sell')\n",
    "    cond2 = ( df['action'] == 'sell') & ( df['action'].shift(1) == 'buy')\n",
    "\n",
    "    df_buy = df[cond1].reset_index()\n",
    "    df_buy.columns = ['날짜', '종가(buy)', '이평3일', '이평30일', '결정']\n",
    "\n",
    "    df_sell = df[cond2].reset_index()\n",
    "    df_sell.columns = ['날짜', '종가(sell)', '이평3일', '이평30일', '결정']\n",
    "\n",
    "    df_result = pd.concat([df_buy, df_sell], axis = 1)\n",
    "\n",
    "    df_result['수익률'] = df_result['종가(sell)'] / df_result['종가(buy)'] \n",
    "\n",
    "    df_final = (df_result[['수익률']].cumprod().tail(1) -1)*100\n",
    "\n",
    "    df_final['단기 이평'] = short\n",
    "    df_final['장기 이평'] = long\n",
    "\n",
    "    return df_final"
   ]
  },
  {
   "cell_type": "markdown",
   "metadata": {},
   "source": [
    "## 3-1. cluster0"
   ]
  },
  {
   "cell_type": "code",
   "execution_count": 43,
   "metadata": {},
   "outputs": [
    {
     "name": "stdout",
     "output_type": "stream",
     "text": [
      "-0.6870524114938085\n"
     ]
    },
    {
     "data": {
      "text/html": [
       "<div>\n",
       "<style scoped>\n",
       "    .dataframe tbody tr th:only-of-type {\n",
       "        vertical-align: middle;\n",
       "    }\n",
       "\n",
       "    .dataframe tbody tr th {\n",
       "        vertical-align: top;\n",
       "    }\n",
       "\n",
       "    .dataframe thead th {\n",
       "        text-align: right;\n",
       "    }\n",
       "</style>\n",
       "<table border=\"1\" class=\"dataframe\">\n",
       "  <thead>\n",
       "    <tr style=\"text-align: right;\">\n",
       "      <th></th>\n",
       "      <th>수익률</th>\n",
       "      <th>단기 이평</th>\n",
       "      <th>장기 이평</th>\n",
       "    </tr>\n",
       "  </thead>\n",
       "  <tbody>\n",
       "    <tr>\n",
       "      <th>0</th>\n",
       "      <td>-11.804679</td>\n",
       "      <td>10</td>\n",
       "      <td>50</td>\n",
       "    </tr>\n",
       "    <tr>\n",
       "      <th>1</th>\n",
       "      <td>42.334743</td>\n",
       "      <td>10</td>\n",
       "      <td>50</td>\n",
       "    </tr>\n",
       "    <tr>\n",
       "      <th>2</th>\n",
       "      <td>-9.639451</td>\n",
       "      <td>10</td>\n",
       "      <td>50</td>\n",
       "    </tr>\n",
       "    <tr>\n",
       "      <th>3</th>\n",
       "      <td>-6.671244</td>\n",
       "      <td>10</td>\n",
       "      <td>50</td>\n",
       "    </tr>\n",
       "    <tr>\n",
       "      <th>4</th>\n",
       "      <td>49.949018</td>\n",
       "      <td>10</td>\n",
       "      <td>50</td>\n",
       "    </tr>\n",
       "    <tr>\n",
       "      <th>5</th>\n",
       "      <td>-22.246875</td>\n",
       "      <td>10</td>\n",
       "      <td>50</td>\n",
       "    </tr>\n",
       "    <tr>\n",
       "      <th>6</th>\n",
       "      <td>-33.320403</td>\n",
       "      <td>10</td>\n",
       "      <td>50</td>\n",
       "    </tr>\n",
       "    <tr>\n",
       "      <th>7</th>\n",
       "      <td>-6.960224</td>\n",
       "      <td>10</td>\n",
       "      <td>50</td>\n",
       "    </tr>\n",
       "    <tr>\n",
       "      <th>8</th>\n",
       "      <td>-15.932983</td>\n",
       "      <td>10</td>\n",
       "      <td>50</td>\n",
       "    </tr>\n",
       "    <tr>\n",
       "      <th>9</th>\n",
       "      <td>7.421573</td>\n",
       "      <td>10</td>\n",
       "      <td>50</td>\n",
       "    </tr>\n",
       "  </tbody>\n",
       "</table>\n",
       "</div>"
      ],
      "text/plain": [
       "         수익률  단기 이평  장기 이평\n",
       "0 -11.804679     10     50\n",
       "1  42.334743     10     50\n",
       "2  -9.639451     10     50\n",
       "3  -6.671244     10     50\n",
       "4  49.949018     10     50\n",
       "5 -22.246875     10     50\n",
       "6 -33.320403     10     50\n",
       "7  -6.960224     10     50\n",
       "8 -15.932983     10     50\n",
       "9   7.421573     10     50"
      ]
     },
     "execution_count": 43,
     "metadata": {},
     "output_type": "execute_result"
    }
   ],
   "source": [
    "list_cluster0 = ['226320', '149980', '002310', '081580', '109080', '009680', '100660', '067830', '008110', '066670']\n",
    "\n",
    "dfs = list()\n",
    "for i in list_cluster0:\n",
    "    dfs.append(get_return_sl(i, 10 ,50))\n",
    "df_result = pd.concat(dfs)\n",
    "df_result.reset_index(drop=True, inplace=True)\n",
    "print(sum(df_result[\"수익률\"])/10)\n",
    "df_result"
   ]
  },
  {
   "cell_type": "markdown",
   "metadata": {},
   "source": [
    "## 3-2. cluster3"
   ]
  },
  {
   "cell_type": "code",
   "execution_count": 42,
   "metadata": {},
   "outputs": [
    {
     "name": "stdout",
     "output_type": "stream",
     "text": [
      "-8.938132947169704\n"
     ]
    },
    {
     "data": {
      "text/html": [
       "<div>\n",
       "<style scoped>\n",
       "    .dataframe tbody tr th:only-of-type {\n",
       "        vertical-align: middle;\n",
       "    }\n",
       "\n",
       "    .dataframe tbody tr th {\n",
       "        vertical-align: top;\n",
       "    }\n",
       "\n",
       "    .dataframe thead th {\n",
       "        text-align: right;\n",
       "    }\n",
       "</style>\n",
       "<table border=\"1\" class=\"dataframe\">\n",
       "  <thead>\n",
       "    <tr style=\"text-align: right;\">\n",
       "      <th></th>\n",
       "      <th>수익률</th>\n",
       "      <th>단기 이평</th>\n",
       "      <th>장기 이평</th>\n",
       "    </tr>\n",
       "  </thead>\n",
       "  <tbody>\n",
       "    <tr>\n",
       "      <th>0</th>\n",
       "      <td>-14.557791</td>\n",
       "      <td>10</td>\n",
       "      <td>50</td>\n",
       "    </tr>\n",
       "    <tr>\n",
       "      <th>1</th>\n",
       "      <td>9.182599</td>\n",
       "      <td>10</td>\n",
       "      <td>50</td>\n",
       "    </tr>\n",
       "    <tr>\n",
       "      <th>2</th>\n",
       "      <td>-38.076389</td>\n",
       "      <td>10</td>\n",
       "      <td>50</td>\n",
       "    </tr>\n",
       "    <tr>\n",
       "      <th>3</th>\n",
       "      <td>-23.008123</td>\n",
       "      <td>10</td>\n",
       "      <td>50</td>\n",
       "    </tr>\n",
       "    <tr>\n",
       "      <th>4</th>\n",
       "      <td>-9.568654</td>\n",
       "      <td>10</td>\n",
       "      <td>50</td>\n",
       "    </tr>\n",
       "    <tr>\n",
       "      <th>5</th>\n",
       "      <td>-12.788155</td>\n",
       "      <td>10</td>\n",
       "      <td>50</td>\n",
       "    </tr>\n",
       "    <tr>\n",
       "      <th>6</th>\n",
       "      <td>-15.127726</td>\n",
       "      <td>10</td>\n",
       "      <td>50</td>\n",
       "    </tr>\n",
       "    <tr>\n",
       "      <th>7</th>\n",
       "      <td>7.168459</td>\n",
       "      <td>10</td>\n",
       "      <td>50</td>\n",
       "    </tr>\n",
       "    <tr>\n",
       "      <th>8</th>\n",
       "      <td>19.646190</td>\n",
       "      <td>10</td>\n",
       "      <td>50</td>\n",
       "    </tr>\n",
       "    <tr>\n",
       "      <th>9</th>\n",
       "      <td>-12.251740</td>\n",
       "      <td>10</td>\n",
       "      <td>50</td>\n",
       "    </tr>\n",
       "  </tbody>\n",
       "</table>\n",
       "</div>"
      ],
      "text/plain": [
       "         수익률  단기 이평  장기 이평\n",
       "0 -14.557791     10     50\n",
       "1   9.182599     10     50\n",
       "2 -38.076389     10     50\n",
       "3 -23.008123     10     50\n",
       "4  -9.568654     10     50\n",
       "5 -12.788155     10     50\n",
       "6 -15.127726     10     50\n",
       "7   7.168459     10     50\n",
       "8  19.646190     10     50\n",
       "9 -12.251740     10     50"
      ]
     },
     "execution_count": 42,
     "metadata": {},
     "output_type": "execute_result"
    }
   ],
   "source": [
    "list_cluster3 = ['006650', '004440', '100130', '084010', '011500', '121440', '147760', '210540', '108320', '025540']\n",
    "\n",
    "dfs = list()\n",
    "for i in list_cluster3:\n",
    "    dfs.append(get_return_sl(i, 10 ,50))\n",
    "df_result = pd.concat(dfs)\n",
    "df_result.reset_index(drop=True, inplace=True)\n",
    "print(sum(df_result[\"수익률\"])/10)\n",
    "df_result"
   ]
  },
  {
   "cell_type": "markdown",
   "metadata": {},
   "source": [
    "## 3-3. cluster10"
   ]
  },
  {
   "cell_type": "code",
   "execution_count": 44,
   "metadata": {},
   "outputs": [
    {
     "name": "stdout",
     "output_type": "stream",
     "text": [
      "4.37699659068355\n"
     ]
    },
    {
     "data": {
      "text/html": [
       "<div>\n",
       "<style scoped>\n",
       "    .dataframe tbody tr th:only-of-type {\n",
       "        vertical-align: middle;\n",
       "    }\n",
       "\n",
       "    .dataframe tbody tr th {\n",
       "        vertical-align: top;\n",
       "    }\n",
       "\n",
       "    .dataframe thead th {\n",
       "        text-align: right;\n",
       "    }\n",
       "</style>\n",
       "<table border=\"1\" class=\"dataframe\">\n",
       "  <thead>\n",
       "    <tr style=\"text-align: right;\">\n",
       "      <th></th>\n",
       "      <th>수익률</th>\n",
       "      <th>단기 이평</th>\n",
       "      <th>장기 이평</th>\n",
       "    </tr>\n",
       "  </thead>\n",
       "  <tbody>\n",
       "    <tr>\n",
       "      <th>0</th>\n",
       "      <td>-15.522656</td>\n",
       "      <td>10</td>\n",
       "      <td>50</td>\n",
       "    </tr>\n",
       "    <tr>\n",
       "      <th>1</th>\n",
       "      <td>143.597738</td>\n",
       "      <td>10</td>\n",
       "      <td>50</td>\n",
       "    </tr>\n",
       "    <tr>\n",
       "      <th>2</th>\n",
       "      <td>-35.833406</td>\n",
       "      <td>10</td>\n",
       "      <td>50</td>\n",
       "    </tr>\n",
       "    <tr>\n",
       "      <th>3</th>\n",
       "      <td>-10.101588</td>\n",
       "      <td>10</td>\n",
       "      <td>50</td>\n",
       "    </tr>\n",
       "    <tr>\n",
       "      <th>4</th>\n",
       "      <td>4.531965</td>\n",
       "      <td>10</td>\n",
       "      <td>50</td>\n",
       "    </tr>\n",
       "    <tr>\n",
       "      <th>5</th>\n",
       "      <td>-67.144531</td>\n",
       "      <td>10</td>\n",
       "      <td>50</td>\n",
       "    </tr>\n",
       "    <tr>\n",
       "      <th>6</th>\n",
       "      <td>-9.081456</td>\n",
       "      <td>10</td>\n",
       "      <td>50</td>\n",
       "    </tr>\n",
       "    <tr>\n",
       "      <th>7</th>\n",
       "      <td>-35.791299</td>\n",
       "      <td>10</td>\n",
       "      <td>50</td>\n",
       "    </tr>\n",
       "    <tr>\n",
       "      <th>8</th>\n",
       "      <td>73.988375</td>\n",
       "      <td>10</td>\n",
       "      <td>50</td>\n",
       "    </tr>\n",
       "    <tr>\n",
       "      <th>9</th>\n",
       "      <td>-4.873177</td>\n",
       "      <td>10</td>\n",
       "      <td>50</td>\n",
       "    </tr>\n",
       "  </tbody>\n",
       "</table>\n",
       "</div>"
      ],
      "text/plain": [
       "          수익률  단기 이평  장기 이평\n",
       "0  -15.522656     10     50\n",
       "1  143.597738     10     50\n",
       "2  -35.833406     10     50\n",
       "3  -10.101588     10     50\n",
       "4    4.531965     10     50\n",
       "5  -67.144531     10     50\n",
       "6   -9.081456     10     50\n",
       "7  -35.791299     10     50\n",
       "8   73.988375     10     50\n",
       "9   -4.873177     10     50"
      ]
     },
     "execution_count": 44,
     "metadata": {},
     "output_type": "execute_result"
    }
   ],
   "source": [
    "list_cluster10 = ['023800', '042600', '001230', '043260', '001120', '019490', '010060', '200880', '137400', '114810']\n",
    "\n",
    "dfs = list()\n",
    "for i in list_cluster10:\n",
    "    dfs.append(get_return_sl(i, 10 ,50))\n",
    "df_result = pd.concat(dfs)\n",
    "df_result.reset_index(drop=True, inplace=True)\n",
    "print(sum(df_result[\"수익률\"])/10)\n",
    "df_result"
   ]
  },
  {
   "cell_type": "markdown",
   "metadata": {},
   "source": [
    "## 3-4. 최적이평선 찾기"
   ]
  },
  {
   "cell_type": "code",
   "execution_count": null,
   "metadata": {},
   "outputs": [],
   "source": [
    "# 최적이평선 찾기\n",
    "dfs = []\n",
    "for short in range(3, 11):\n",
    "    for long in range(30, 61):\n",
    "        df = get_return_sl('006650', short, long)\n",
    "        dfs.append(df)\n",
    "\n",
    "df_result = pd.concat(dfs)\n",
    "df_result.sort_values(by = '수익률', ascending = False)"
   ]
  },
  {
   "cell_type": "markdown",
   "metadata": {},
   "source": [
    "# 4. 최종 수익률"
   ]
  },
  {
   "cell_type": "code",
   "execution_count": 49,
   "metadata": {},
   "outputs": [
    {
     "data": {
      "text/html": [
       "<div>\n",
       "<style scoped>\n",
       "    .dataframe tbody tr th:only-of-type {\n",
       "        vertical-align: middle;\n",
       "    }\n",
       "\n",
       "    .dataframe tbody tr th {\n",
       "        vertical-align: top;\n",
       "    }\n",
       "\n",
       "    .dataframe thead th {\n",
       "        text-align: right;\n",
       "    }\n",
       "</style>\n",
       "<table border=\"1\" class=\"dataframe\">\n",
       "  <thead>\n",
       "    <tr style=\"text-align: right;\">\n",
       "      <th></th>\n",
       "      <th>Buy&amp;hold수익률</th>\n",
       "      <th>이평선(10-50)수익률</th>\n",
       "      <th>이평선(10-60)수익률</th>\n",
       "    </tr>\n",
       "  </thead>\n",
       "  <tbody>\n",
       "    <tr>\n",
       "      <th>cluster0</th>\n",
       "      <td>-0.980000</td>\n",
       "      <td>-8.94</td>\n",
       "      <td>-5.590000</td>\n",
       "    </tr>\n",
       "    <tr>\n",
       "      <th>cluster3</th>\n",
       "      <td>23.620000</td>\n",
       "      <td>-0.69</td>\n",
       "      <td>-12.970000</td>\n",
       "    </tr>\n",
       "    <tr>\n",
       "      <th>cluster10</th>\n",
       "      <td>14.840000</td>\n",
       "      <td>4.38</td>\n",
       "      <td>7.740000</td>\n",
       "    </tr>\n",
       "    <tr>\n",
       "      <th>Total수익률</th>\n",
       "      <td>12.493333</td>\n",
       "      <td>-1.75</td>\n",
       "      <td>-3.606667</td>\n",
       "    </tr>\n",
       "  </tbody>\n",
       "</table>\n",
       "</div>"
      ],
      "text/plain": [
       "           Buy&hold수익률  이평선(10-50)수익률  이평선(10-60)수익률\n",
       "cluster0     -0.980000          -8.94      -5.590000\n",
       "cluster3     23.620000          -0.69     -12.970000\n",
       "cluster10    14.840000           4.38       7.740000\n",
       "Total수익률     12.493333          -1.75      -3.606667"
      ]
     },
     "execution_count": 49,
     "metadata": {},
     "output_type": "execute_result"
    }
   ],
   "source": [
    "final = pd.DataFrame({\"Buy&hold수익률\":[-0.98,23.62,14.84, (-0.98+23.62+14.84)/3], \"이평선(10-50)수익률\":[-8.94,-0.69,4.38,(-8.94-0.69+4.38)/3], \"이평선(10-60)수익률\":[-5.59,-12.97,7.74,(-5.59-12.97+7.74)/3]}, index=[\"cluster0\",\"cluster3\",\"cluster10\",\"Total수익률\"])\n",
    "final"
   ]
  },
  {
   "cell_type": "markdown",
   "metadata": {},
   "source": [
    "끝!"
   ]
  }
 ],
 "metadata": {
  "kernelspec": {
   "display_name": "Python 3.8.5 ('base')",
   "language": "python",
   "name": "python3"
  },
  "language_info": {
   "codemirror_mode": {
    "name": "ipython",
    "version": 3
   },
   "file_extension": ".py",
   "mimetype": "text/x-python",
   "name": "python",
   "nbconvert_exporter": "python",
   "pygments_lexer": "ipython3",
   "version": "3.8.5"
  },
  "orig_nbformat": 4,
  "vscode": {
   "interpreter": {
    "hash": "c97f18ea1c0f4969cf594a5df9f14ba2a838cf106fc5300ddecce29d9d6f0c71"
   }
  }
 },
 "nbformat": 4,
 "nbformat_minor": 2
}
